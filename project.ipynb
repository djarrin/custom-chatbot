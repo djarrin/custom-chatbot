{
 "cells": [
  {
   "cell_type": "markdown",
   "id": "124e5672",
   "metadata": {},
   "source": [
    "# Custom Chatbot Project: Character Dataset"
   ]
  },
  {
   "cell_type": "markdown",
   "id": "2a4a94b3",
   "metadata": {},
   "source": [
    "In this project I'm going to use a dataset of fictional characters from TV, Movies and plays. I  think this dataset is appropriate for this application because it will demonstrate the LLM's ability to connect character names to specific traits within the data given the appropriate context. We will wrangle the dataset, setup embeddings, use cosine similarity to query the dataset then use these Query resutls to generate a RAG response from the OpenAPI endpoint."
   ]
  },
  {
   "cell_type": "code",
   "execution_count": 33,
   "id": "d8b476e1-9fe1-4bd6-83f7-db43ad9580c4",
   "metadata": {},
   "outputs": [],
   "source": [
    "#Imports\n",
    "import openai\n",
    "import pandas as pd\n",
    "from sklearn.metrics.pairwise import cosine_similarity\n",
    "import numpy as np\n",
    "import tiktoken"
   ]
  },
  {
   "cell_type": "markdown",
   "id": "a63d4c5f",
   "metadata": {},
   "source": [
    "## Data Wrangling\n",
    "\n",
    "Here we will be loading in our test data and contatinating it all the info into a single text column in our dataframe so it'll be easier for processing. "
   ]
  },
  {
   "cell_type": "code",
   "execution_count": 34,
   "id": "c69b83a1",
   "metadata": {},
   "outputs": [],
   "source": [
    "df = pd.read_csv('data/character_descriptions.csv')"
   ]
  },
  {
   "cell_type": "code",
   "execution_count": 35,
   "id": "0a595980",
   "metadata": {},
   "outputs": [
    {
     "data": {
      "text/html": [
       "<div>\n",
       "<style scoped>\n",
       "    .dataframe tbody tr th:only-of-type {\n",
       "        vertical-align: middle;\n",
       "    }\n",
       "\n",
       "    .dataframe tbody tr th {\n",
       "        vertical-align: top;\n",
       "    }\n",
       "\n",
       "    .dataframe thead th {\n",
       "        text-align: right;\n",
       "    }\n",
       "</style>\n",
       "<table border=\"1\" class=\"dataframe\">\n",
       "  <thead>\n",
       "    <tr style=\"text-align: right;\">\n",
       "      <th></th>\n",
       "      <th>Name</th>\n",
       "      <th>Description</th>\n",
       "      <th>Medium</th>\n",
       "      <th>Setting</th>\n",
       "    </tr>\n",
       "  </thead>\n",
       "  <tbody>\n",
       "    <tr>\n",
       "      <th>0</th>\n",
       "      <td>Emily</td>\n",
       "      <td>A young woman in her early 20s, Emily is an as...</td>\n",
       "      <td>Play</td>\n",
       "      <td>England</td>\n",
       "    </tr>\n",
       "    <tr>\n",
       "      <th>1</th>\n",
       "      <td>Jack</td>\n",
       "      <td>A middle-aged man in his 40s, Jack is a succes...</td>\n",
       "      <td>Play</td>\n",
       "      <td>England</td>\n",
       "    </tr>\n",
       "    <tr>\n",
       "      <th>2</th>\n",
       "      <td>Alice</td>\n",
       "      <td>A woman in her late 30s, Alice is a warm and n...</td>\n",
       "      <td>Play</td>\n",
       "      <td>England</td>\n",
       "    </tr>\n",
       "    <tr>\n",
       "      <th>3</th>\n",
       "      <td>Tom</td>\n",
       "      <td>A man in his 50s, Tom is a retired soldier and...</td>\n",
       "      <td>Play</td>\n",
       "      <td>England</td>\n",
       "    </tr>\n",
       "    <tr>\n",
       "      <th>4</th>\n",
       "      <td>Sarah</td>\n",
       "      <td>A woman in her mid-20s, Sarah is a free-spirit...</td>\n",
       "      <td>Play</td>\n",
       "      <td>England</td>\n",
       "    </tr>\n",
       "  </tbody>\n",
       "</table>\n",
       "</div>"
      ],
      "text/plain": [
       "    Name                                        Description Medium  Setting\n",
       "0  Emily  A young woman in her early 20s, Emily is an as...   Play  England\n",
       "1   Jack  A middle-aged man in his 40s, Jack is a succes...   Play  England\n",
       "2  Alice  A woman in her late 30s, Alice is a warm and n...   Play  England\n",
       "3    Tom  A man in his 50s, Tom is a retired soldier and...   Play  England\n",
       "4  Sarah  A woman in her mid-20s, Sarah is a free-spirit...   Play  England"
      ]
     },
     "execution_count": 35,
     "metadata": {},
     "output_type": "execute_result"
    }
   ],
   "source": [
    "df.head()"
   ]
  },
  {
   "cell_type": "code",
   "execution_count": 36,
   "id": "acb3a9fd",
   "metadata": {},
   "outputs": [],
   "source": [
    "df['text'] = df.apply(lambda row: f\"Name: {row['Name']}, Medium: {row['Medium']}, Setting: {row['Setting']}, Description: {row['Description']}\", axis=1)"
   ]
  },
  {
   "cell_type": "code",
   "execution_count": 37,
   "id": "8b0140de-ae51-40d4-9347-6431b8202713",
   "metadata": {},
   "outputs": [
    {
     "name": "stdout",
     "output_type": "stream",
     "text": [
      "                                                text\n",
      "0  Name: Emily, Medium: Play, Setting: England, D...\n",
      "1  Name: Jack, Medium: Play, Setting: England, De...\n",
      "2  Name: Alice, Medium: Play, Setting: England, D...\n",
      "3  Name: Tom, Medium: Play, Setting: England, Des...\n",
      "4  Name: Sarah, Medium: Play, Setting: England, D...\n"
     ]
    }
   ],
   "source": [
    "print(df[['text']].head())"
   ]
  },
  {
   "cell_type": "markdown",
   "id": "ae769871",
   "metadata": {},
   "source": [
    "## Custom Query Completion\n",
    "\n",
    "Here we will generate an embedding of our dataset and our query, find the cosine distance then apply the most relavent context to our query. Lastly we will call the OpenAI completion method to get our response."
   ]
  },
  {
   "cell_type": "code",
   "execution_count": 38,
   "id": "16dcf500-738a-45f1-b342-5f6276e4ccb4",
   "metadata": {},
   "outputs": [
    {
     "name": "stdout",
     "output_type": "stream",
     "text": [
      "0.28.0\n"
     ]
    }
   ],
   "source": [
    "print(openai.__version__)"
   ]
  },
  {
   "cell_type": "code",
   "execution_count": 39,
   "id": "582f0656",
   "metadata": {},
   "outputs": [],
   "source": [
    "openai.api_base = \"https://openai.vocareum.com/v1\"\n",
    "openai.api_key = \"YOUR API KEY\""
   ]
  },
  {
   "cell_type": "code",
   "execution_count": 40,
   "id": "8b6e1f75",
   "metadata": {},
   "outputs": [],
   "source": [
    "def generate_openai_embedding(text, model=\"text-embedding-ada-002\"):\n",
    "    response = openai.Embedding.create(\n",
    "        input=text,\n",
    "        model=model\n",
    "    )\n",
    "    return response['data'][0]['embedding']"
   ]
  },
  {
   "cell_type": "code",
   "execution_count": 41,
   "id": "13f2dcd7",
   "metadata": {},
   "outputs": [],
   "source": [
    "df['embedding'] = df['text'].apply(lambda x: generate_openai_embedding(x))"
   ]
  },
  {
   "cell_type": "code",
   "execution_count": 42,
   "id": "c403f543",
   "metadata": {},
   "outputs": [],
   "source": [
    "def query_text_openai(query, df, top_n=5):\n",
    "    query_embedding = np.array(generate_openai_embedding(query)).reshape(1, -1)\n",
    "    embeddings = np.vstack(df['embedding'].values)\n",
    "    similarities = cosine_similarity(query_embedding, embeddings).flatten()\n",
    "    top_indices = similarities.argsort()[-top_n:][::-1]\n",
    "    results = df.iloc[top_indices]\n",
    "    return results[['text', 'Description']] "
   ]
  },
  {
   "cell_type": "code",
   "execution_count": 43,
   "id": "74280b92",
   "metadata": {},
   "outputs": [
    {
     "name": "stdout",
     "output_type": "stream",
     "text": [
      "                                                                                                                                                                                                                                                                                                                       text                                                                                                                                                                                                                                                    Description\n",
      "3                                                   Name: Tom, Medium: Play, Setting: England, Description: A man in his 50s, Tom is a retired soldier and John's son. He has a no-nonsense approach to life, but is haunted by his experiences in combat and struggles with PTSD. He's also in a relationship with Rachel.                                                A man in his 50s, Tom is a retired soldier and John's son. He has a no-nonsense approach to life, but is haunted by his experiences in combat and struggles with PTSD. He's also in a relationship with Rachel.\n",
      "5  Name: George, Medium: Play, Setting: England, Description: A man in his early 30s, George is a charming and charismatic businessman who is in a relationship with Emily. He's ambitious, confident, and always looking for the next big opportunity. However, he's also prone to bending the rules to get what he wants.  A man in his early 30s, George is a charming and charismatic businessman who is in a relationship with Emily. He's ambitious, confident, and always looking for the next big opportunity. However, he's also prone to bending the rules to get what he wants.\n",
      "6                Name: Rachel, Medium: Play, Setting: England, Description: A woman in her late 20s, Rachel is a shy and introverted librarian who is in a relationship with Tom. She's intelligent, thoughtful, and has a deep love of books. However, she struggles with social anxiety and often feels like an outsider.                A woman in her late 20s, Rachel is a shy and introverted librarian who is in a relationship with Tom. She's intelligent, thoughtful, and has a deep love of books. However, she struggles with social anxiety and often feels like an outsider.\n",
      "0                                        Name: Emily, Medium: Play, Setting: England, Description: A young woman in her early 20s, Emily is an aspiring actress and Alice's daughter. She has a bubbly personality and a quick wit, but struggles with self-doubt and insecurity. She's also in a relationship with George.                                       A young woman in her early 20s, Emily is an aspiring actress and Alice's daughter. She has a bubbly personality and a quick wit, but struggles with self-doubt and insecurity. She's also in a relationship with George.\n",
      "7                                                                                                Name: John, Medium: Play, Setting: England, Description: A man in his 60s, John is a retired professor and Tom's father. He has a dry wit and a love of intellectual debate, but can also be stubborn and set in his ways.                                                                                              A man in his 60s, John is a retired professor and Tom's father. He has a dry wit and a love of intellectual debate, but can also be stubborn and set in his ways.\n"
     ]
    }
   ],
   "source": [
    "query = \"Looking for a sad character from a English setting\"\n",
    "top_results = query_text_openai(query, df)\n",
    "print(top_results.to_string())"
   ]
  },
  {
   "cell_type": "markdown",
   "id": "babc95bc-6831-4c68-b108-861f160a96c1",
   "metadata": {},
   "source": [
    "### Prompt Creation\n",
    "Now we want to create a method to actually insert the relavent context into our prompt"
   ]
  },
  {
   "cell_type": "code",
   "execution_count": 44,
   "id": "25cd0c2f-16b0-4b81-bf3a-875b1f7dbed1",
   "metadata": {},
   "outputs": [],
   "source": [
    "def create_prompt(question, df, max_token_count):\n",
    "    \"\"\"\n",
    "    Given a question and a dataframe containing rows of text and their\n",
    "    embeddings, return a text prompt to send to a Completion model\n",
    "    \"\"\"\n",
    "    # Create a tokenizer that is designed to align with our embeddings\n",
    "    tokenizer = tiktoken.get_encoding(\"cl100k_base\")\n",
    "\n",
    "    # Count the number of tokens in the prompt template and question\n",
    "    prompt_template = \"\"\"\n",
    "Answer the question based on the context below, and if the question\n",
    "can't be answered based on the context, say \"I don't know\". Please provide \n",
    "a description of why the answer was provided.\n",
    "\n",
    "Context: \n",
    "\n",
    "{}\n",
    "\n",
    "---\n",
    "\n",
    "Question: {}\n",
    "Answer:\"\"\"\n",
    "\n",
    "    current_token_count = len(tokenizer.encode(prompt_template)) + \\\n",
    "                            len(tokenizer.encode(question))\n",
    "\n",
    "    context = []\n",
    "    relevant_rows = query_text_openai(question, df, 100)\n",
    "\n",
    "    for text in relevant_rows[\"text\"].values:\n",
    "\n",
    "        # Increase the counter based on the number of tokens in this row\n",
    "        text_token_count = len(tokenizer.encode(text))\n",
    "        current_token_count += text_token_count\n",
    "\n",
    "        # Add the row of text to the list if we haven't exceeded the max\n",
    "        if current_token_count <= max_token_count:\n",
    "            context.append(text)\n",
    "        else:\n",
    "            break\n",
    "\n",
    "    return prompt_template.format(\"\\n\\n###\\n\\n\".join(context), question)"
   ]
  },
  {
   "cell_type": "code",
   "execution_count": 45,
   "id": "1ca03556-d6e5-49fc-9bd3-95db4fd4bf0e",
   "metadata": {},
   "outputs": [],
   "source": [
    "COMPLETION_MODEL_NAME = \"gpt-3.5-turbo-instruct\"\n",
    "\n",
    "def answer_question(\n",
    "    question, df, max_prompt_tokens=1800, max_answer_tokens=150\n",
    "):\n",
    "    \"\"\"\n",
    "    Given a question, a dataframe containing rows of text, and a maximum\n",
    "    number of desired tokens in the prompt and response, return the\n",
    "    answer to the question according to an OpenAI Completion model\n",
    "\n",
    "    If the model produces an error, return an empty string\n",
    "    \"\"\"\n",
    "\n",
    "    prompt = create_prompt(question, df, max_prompt_tokens)\n",
    "\n",
    "    try:\n",
    "        response = openai.Completion.create(\n",
    "            model=COMPLETION_MODEL_NAME,\n",
    "            prompt=prompt,\n",
    "            max_tokens=max_answer_tokens\n",
    "        )\n",
    "        return response[\"choices\"][0][\"text\"].strip()\n",
    "    except Exception as e:\n",
    "        print(e)\n",
    "        return \"\"\n"
   ]
  },
  {
   "cell_type": "code",
   "execution_count": 46,
   "id": "212fc43e-7ae8-4eda-94dd-449252fdc8e6",
   "metadata": {},
   "outputs": [
    {
     "name": "stdout",
     "output_type": "stream",
     "text": [
      "Tom and Rachel are from England and can be considered sad because Tom struggles with PTSD from being a retired soldier and Rachel struggles with social anxiety and often feels like an outsider.\n"
     ]
    }
   ],
   "source": [
    "test_question = \"Which characters do you have that were are from England and are sad?\"\n",
    "test_answer = answer_question(test_question, df)\n",
    "print(test_answer)"
   ]
  },
  {
   "cell_type": "markdown",
   "id": "1783f146",
   "metadata": {},
   "source": [
    "## Custom Performance Demonstration\n",
    "\n",
    "In this section we're going to test out the bot and see how it does with certain questions about characters. We will first do a text completion call without any context from our dataset then make a call with the context inserted with our custom prompt."
   ]
  },
  {
   "cell_type": "code",
   "execution_count": 47,
   "id": "e8825138-fff8-460a-91da-68995d5e24b3",
   "metadata": {},
   "outputs": [],
   "source": [
    "def create_prompt_without_context(question, max_token_count):\n",
    "    \"\"\"\n",
    "    Given a question, return a text prompt to send to a Completion model.\n",
    "    This version does not insert any context, but uses the same structure.\n",
    "    \"\"\"\n",
    "    # Create a tokenizer that is designed to align with our embeddings\n",
    "    tokenizer = tiktoken.get_encoding(\"cl100k_base\")\n",
    "\n",
    "    # Define the prompt template without context\n",
    "    prompt_template = \"\"\"\n",
    "Answer the question below. If the question can't be answered on its own, say \"I don't know.\"\n",
    "\n",
    "Question: {}\n",
    "Answer:\"\"\"\n",
    "\n",
    "    # Count the number of tokens in the prompt template and question\n",
    "    current_token_count = len(tokenizer.encode(prompt_template)) + \\\n",
    "                          len(tokenizer.encode(question))\n",
    "\n",
    "    # Ensure the total tokens do not exceed the limit\n",
    "    if current_token_count > max_token_count:\n",
    "        raise ValueError(\"The question exceeds the maximum token count allowed.\")\n",
    "\n",
    "    # Format the prompt with the question\n",
    "    return prompt_template.format(question)"
   ]
  },
  {
   "cell_type": "code",
   "execution_count": 51,
   "id": "f72308f0-14df-4d28-b816-468bfd0cbb1b",
   "metadata": {},
   "outputs": [],
   "source": [
    "def answer_question_without_context(\n",
    "    question, max_prompt_tokens=1800, max_answer_tokens=150\n",
    "):\n",
    "\n",
    "    prompt = create_prompt_without_context(question, max_prompt_tokens)\n",
    "\n",
    "    try:\n",
    "        response = openai.Completion.create(\n",
    "            model=COMPLETION_MODEL_NAME,\n",
    "            prompt=prompt,\n",
    "            max_tokens=max_answer_tokens\n",
    "        )\n",
    "        return response[\"choices\"][0][\"text\"].strip()\n",
    "    except Exception as e:\n",
    "        print(e)\n",
    "        return \"\""
   ]
  },
  {
   "cell_type": "code",
   "execution_count": 81,
   "id": "f831faf1-2a86-40fd-9a8f-71f8d469a8b9",
   "metadata": {},
   "outputs": [],
   "source": [
    "def show_character_details(df, name):\n",
    "    \"\"\"\n",
    "    Filters the DataFrame to show details of a character by name,\n",
    "    displaying Name, Setting, Medium, and the full Description.\n",
    "    \"\"\"\n",
    "    # Set display option to ensure full Description content is shown\n",
    "    pd.set_option('display.max_colwidth', None)\n",
    "\n",
    "    # Filter the DataFrame based on the name and select specific columns\n",
    "    character_details = df[df['Name'] == name][['Name', 'Setting', 'Medium', 'Description']]\n",
    "    \n",
    "    # Print the result\n",
    "    print(character_details)\n",
    "\n",
    "    # Reset display option to default\n",
    "    pd.reset_option('display.max_colwidth')"
   ]
  },
  {
   "cell_type": "markdown",
   "id": "4f11fdc0",
   "metadata": {},
   "source": [
    "### Question 1"
   ]
  },
  {
   "cell_type": "code",
   "execution_count": 69,
   "id": "4901c850",
   "metadata": {},
   "outputs": [],
   "source": [
    "test_question_1 = \"Can you tell me 3 movie characters who are heroic characters from the USA?\""
   ]
  },
  {
   "cell_type": "code",
   "execution_count": 70,
   "id": "bd7a093b",
   "metadata": {},
   "outputs": [],
   "source": [
    "without_context_answer_1 = answer_question_without_context(test_question_1)"
   ]
  },
  {
   "cell_type": "code",
   "execution_count": 74,
   "id": "344d66e9-4008-4a41-afd6-9f166708ec0e",
   "metadata": {},
   "outputs": [],
   "source": [
    "context_answer_1 = answer_question(test_question_1, df)"
   ]
  },
  {
   "cell_type": "code",
   "execution_count": 72,
   "id": "62e97f36-3511-40d4-af80-cac208361eaa",
   "metadata": {},
   "outputs": [
    {
     "name": "stdout",
     "output_type": "stream",
     "text": [
      "Without Context Answer: I don't know.\n"
     ]
    }
   ],
   "source": [
    "print (f\"Without Context Answer: {without_context_answer_1}\")"
   ]
  },
  {
   "cell_type": "code",
   "execution_count": 75,
   "id": "91515b25-f868-4cbc-8013-d38c0e3eb79c",
   "metadata": {},
   "outputs": [
    {
     "name": "stdout",
     "output_type": "stream",
     "text": [
      "With Context Answer: 1. Manuel\n",
      "2. Tyler\n",
      "3. Will\n",
      "\n",
      "These characters were described as brave, determined, and willing to fight for what they believe in. This is typically seen as a heroic trait in American cinema.\n"
     ]
    }
   ],
   "source": [
    "print (f\"With Context Answer: {context_answer_1}\")"
   ]
  },
  {
   "cell_type": "code",
   "execution_count": 82,
   "id": "290193ce-8970-4de5-b04c-02122b44abb2",
   "metadata": {},
   "outputs": [
    {
     "name": "stdout",
     "output_type": "stream",
     "text": [
      "      Name Setting Medium  \\\n",
      "12  Manuel   Texas  Movie   \n",
      "\n",
      "                                                                                                                                                                                                                                Description  \n",
      "12  A middle-aged Hispanic man in his 50s, Manuel is a proud and hard-working farmer who's struggling to keep his family's farm afloat. He's fiercely loyal to his family and his community, and will do whatever it takes to protect them.  \n"
     ]
    }
   ],
   "source": [
    "show_character_details(df, 'Manuel')"
   ]
  },
  {
   "cell_type": "code",
   "execution_count": 83,
   "id": "9ac820d2-79d5-4ba1-8d6a-534d9a919944",
   "metadata": {},
   "outputs": [
    {
     "name": "stdout",
     "output_type": "stream",
     "text": [
      "     Name Setting Medium  \\\n",
      "10  Tyler   Texas  Movie   \n",
      "\n",
      "                                                                                                                                                                                                                                               Description  \n",
      "10  A white man in his mid-30s, Tyler is a tough-as-nails sheriff who takes his job very seriously. He's stoic, no-nonsense, and has a strong sense of justice. However, he's also struggling to come to terms with a recent tragedy in his personal life.  \n"
     ]
    }
   ],
   "source": [
    "show_character_details(df, 'Tyler')"
   ]
  },
  {
   "cell_type": "code",
   "execution_count": 84,
   "id": "213b688d-ce7d-4dfe-ace2-b72cfec9d900",
   "metadata": {},
   "outputs": [
    {
     "name": "stdout",
     "output_type": "stream",
     "text": [
      "    Name Setting Medium  \\\n",
      "13  Will   Texas  Movie   \n",
      "\n",
      "                                                                                                                                                                                                                                                                                        Description  \n",
      "13  A white man in his early 40s, Will is a successful businessman who's come back to his hometown after many years away. He's confident, charming, and knows how to get what he wants. However, he's also hiding a dark secret from his past that threatens to destroy everything he's worked for.  \n"
     ]
    }
   ],
   "source": [
    "show_character_details(df, 'Will')"
   ]
  },
  {
   "cell_type": "markdown",
   "id": "7add9c5b-7c39-47e7-95c4-6cae30865e5f",
   "metadata": {},
   "source": [
    "#### Results\n",
    "So for these questions we can see that the model without context simply responds that it doesn't know because it has no context. The model with context returned all characters from Texas (in the USA) with various levels of heroicness."
   ]
  },
  {
   "cell_type": "markdown",
   "id": "6e86e37c",
   "metadata": {},
   "source": [
    "### Question 2"
   ]
  },
  {
   "cell_type": "code",
   "execution_count": 93,
   "id": "6f646989",
   "metadata": {},
   "outputs": [],
   "source": [
    "test_question_2 = \"Can you provide me with 3 female characters from england who are happy?\""
   ]
  },
  {
   "cell_type": "code",
   "execution_count": 94,
   "id": "11c07a54",
   "metadata": {},
   "outputs": [],
   "source": [
    "without_context_answer_2 = answer_question_without_context(test_question_2)"
   ]
  },
  {
   "cell_type": "code",
   "execution_count": 95,
   "id": "2d2dc0d4-d8b3-4db3-9ff9-0994cf9631e3",
   "metadata": {},
   "outputs": [],
   "source": [
    "context_answer_2 = answer_question(test_question_2, df)"
   ]
  },
  {
   "cell_type": "code",
   "execution_count": 96,
   "id": "ba6f26cd-c393-4ab3-92d4-deb85c2f522b",
   "metadata": {},
   "outputs": [
    {
     "name": "stdout",
     "output_type": "stream",
     "text": [
      "Without Context Answer: I don't know.\n"
     ]
    }
   ],
   "source": [
    "print (f\"Without Context Answer: {without_context_answer_2}\")"
   ]
  },
  {
   "cell_type": "code",
   "execution_count": 97,
   "id": "6b11a309-9da1-443b-bd07-ebdd2bfcce0a",
   "metadata": {},
   "outputs": [
    {
     "name": "stdout",
     "output_type": "stream",
     "text": [
      "With Context Answer: Emily, Ava, and Alice are all female characters from England who are described as happy in their descriptions. Emily has a bubbly personality and a quick wit, Ava is an elegant and sophisticated fashion designer, and Alice is a warm and nurturing mother. These descriptions make it seem like they are content with their lives and generally happy characters.\n"
     ]
    }
   ],
   "source": [
    "print (f\"With Context Answer: {context_answer_2}\")"
   ]
  },
  {
   "cell_type": "code",
   "execution_count": 98,
   "id": "8f1f8b5d-2098-40b7-9438-834831cf82c3",
   "metadata": {},
   "outputs": [
    {
     "name": "stdout",
     "output_type": "stream",
     "text": [
      "    Name  Setting Medium  \\\n",
      "0  Emily  England   Play   \n",
      "\n",
      "                                                                                                                                                                                                                Description  \n",
      "0  A young woman in her early 20s, Emily is an aspiring actress and Alice's daughter. She has a bubbly personality and a quick wit, but struggles with self-doubt and insecurity. She's also in a relationship with George.  \n"
     ]
    }
   ],
   "source": [
    "show_character_details(df, 'Emily')"
   ]
  },
  {
   "cell_type": "code",
   "execution_count": 99,
   "id": "62e45a81-600a-43f6-95a0-3c4a5d732dd7",
   "metadata": {},
   "outputs": [
    {
     "name": "stdout",
     "output_type": "stream",
     "text": [
      "   Name    Setting          Medium  \\\n",
      "18  Ava  Australia  Limited Series   \n",
      "\n",
      "                                                                                                                                                                                                                                                                                                                                                                            Description  \n",
      "18  A middle-aged Australian woman in her 50s, Ava is a successful fashion designer who's built an empire on her impeccable taste and attention to detail. She's elegant, sophisticated, and always knows what's in style. She's married to Lucas, but their marriage is strained due to his infidelity. She's also been a mentor to Tahlia, and has helped her navigate the art world.  \n"
     ]
    }
   ],
   "source": [
    "show_character_details(df, 'Ava')"
   ]
  },
  {
   "cell_type": "code",
   "execution_count": 100,
   "id": "07b879fb-c938-49b1-bcbd-4d22ed056160",
   "metadata": {},
   "outputs": [
    {
     "name": "stdout",
     "output_type": "stream",
     "text": [
      "    Name  Setting Medium  \\\n",
      "2  Alice  England   Play   \n",
      "\n",
      "                                                                                                                                                                                                            Description  \n",
      "2  A woman in her late 30s, Alice is a warm and nurturing mother of two, including Emily. She's kind-hearted and empathetic, but can be overly protective of her children and prone to worrying. She's married to Jack.  \n"
     ]
    }
   ],
   "source": [
    "show_character_details(df, 'Alice')"
   ]
  },
  {
   "cell_type": "markdown",
   "id": "c1262fd4-d2e2-4e17-9020-98bc6638b47b",
   "metadata": {},
   "source": [
    "#### Results\n",
    "So for these questions we can see that the model without context simply responds that it doesn't know because it has no context. The model with context did better, returning characters from the dataset, all of which appear to be female. It did make one \"error\" by returning Ava, who was neither from England or \"Happy\" or at least by judging from the description it doesn't appear to be an overly happy character."
   ]
  },
  {
   "cell_type": "code",
   "execution_count": null,
   "id": "151e335a-ea62-4adc-b998-14cba9561c34",
   "metadata": {},
   "outputs": [],
   "source": []
  }
 ],
 "metadata": {
  "kernelspec": {
   "display_name": "Python (main_env)",
   "language": "python",
   "name": "main_env"
  },
  "language_info": {
   "codemirror_mode": {
    "name": "ipython",
    "version": 3
   },
   "file_extension": ".py",
   "mimetype": "text/x-python",
   "name": "python",
   "nbconvert_exporter": "python",
   "pygments_lexer": "ipython3",
   "version": "3.12.5"
  }
 },
 "nbformat": 4,
 "nbformat_minor": 5
}
